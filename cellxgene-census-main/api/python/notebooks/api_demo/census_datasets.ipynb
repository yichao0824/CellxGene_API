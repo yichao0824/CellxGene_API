{
 "cells": [
  {
   "cell_type": "markdown",
   "metadata": {},
   "source": [
    "# Exploring the Census Datasets table\n",
    "\n",
    "This tutorial demonstrates basic use of the `census_datasets` dataframe that contains metadata of the Census source datasets. This metadata can be joined to the cell metadata dataframe (`obs`) via the column `dataset_id`, \n",
    "\n",
    "**Contents**\n",
    "\n",
    "1. Fetching the datasets table.\n",
    "2. Fetching the expression data from a single dataset.\n",
    "3. Downloading the original source H5AD file of a dataset.\n",
    "\n",
    "⚠️ Note that the Census RNA data includes duplicate cells present across multiple datasets. Duplicate cells can be filtered in or out using the cell metadata variable `is_primary_data` which is described in the [Census schema](https://github.com/chanzuckerberg/cellxgene-census/blob/main/docs/cellxgene_census_schema.md#repeated-data).\n",
    "\n",
    "## Fetching the datasets table\n",
    "\n",
    "\n",
    "Each Census contains a top-level dataframe itemizing the datasets contained therein. You can read this into a `pandas.DataFrame`."
   ]
  },
  {
   "cell_type": "code",
   "execution_count": 4,
   "metadata": {},
   "outputs": [
    {
     "name": "stderr",
     "output_type": "stream",
     "text": [
      "The \"stable\" release is currently 2023-12-15. Specify 'census_version=\"2023-12-15\"' in future calls to open_soma() to ensure data consistency.\n"
     ]
    },
    {
     "data": {
      "text/html": [
       "<div>\n",
       "<style scoped>\n",
       "    .dataframe tbody tr th:only-of-type {\n",
       "        vertical-align: middle;\n",
       "    }\n",
       "\n",
       "    .dataframe tbody tr th {\n",
       "        vertical-align: top;\n",
       "    }\n",
       "\n",
       "    .dataframe thead th {\n",
       "        text-align: right;\n",
       "    }\n",
       "</style>\n",
       "<table border=\"1\" class=\"dataframe\">\n",
       "  <thead>\n",
       "    <tr style=\"text-align: right;\">\n",
       "      <th></th>\n",
       "      <th>collection_id</th>\n",
       "      <th>collection_name</th>\n",
       "      <th>collection_doi</th>\n",
       "      <th>dataset_id</th>\n",
       "      <th>dataset_version_id</th>\n",
       "      <th>dataset_title</th>\n",
       "      <th>dataset_h5ad_path</th>\n",
       "      <th>dataset_total_cell_count</th>\n",
       "    </tr>\n",
       "    <tr>\n",
       "      <th>soma_joinid</th>\n",
       "      <th></th>\n",
       "      <th></th>\n",
       "      <th></th>\n",
       "      <th></th>\n",
       "      <th></th>\n",
       "      <th></th>\n",
       "      <th></th>\n",
       "      <th></th>\n",
       "    </tr>\n",
       "  </thead>\n",
       "  <tbody>\n",
       "    <tr>\n",
       "      <th>486</th>\n",
       "      <td>bcb61471-2a44-4d00-a0af-ff085512674c</td>\n",
       "      <td>An atlas of healthy and injured cell states an...</td>\n",
       "      <td>10.1038/s41586-023-05769-3</td>\n",
       "      <td>32b9bdce-2481-4c85-ba1b-6ad5fcea844c</td>\n",
       "      <td>c65ea195-d1c7-4086-ad98-83b2aa6d31a7</td>\n",
       "      <td>Single-cell RNA-seq of the Adult Human Kidney ...</td>\n",
       "      <td>32b9bdce-2481-4c85-ba1b-6ad5fcea844c.h5ad</td>\n",
       "      <td>107344</td>\n",
       "    </tr>\n",
       "    <tr>\n",
       "      <th>487</th>\n",
       "      <td>bcb61471-2a44-4d00-a0af-ff085512674c</td>\n",
       "      <td>An atlas of healthy and injured cell states an...</td>\n",
       "      <td>10.1038/s41586-023-05769-3</td>\n",
       "      <td>0b75c598-0893-4216-afe8-5414cab7739d</td>\n",
       "      <td>7cf02c5a-313c-47ec-9958-9337fc948c7f</td>\n",
       "      <td>Integrated Single-nucleus and Single-cell RNA-...</td>\n",
       "      <td>0b75c598-0893-4216-afe8-5414cab7739d.h5ad</td>\n",
       "      <td>304652</td>\n",
       "    </tr>\n",
       "    <tr>\n",
       "      <th>488</th>\n",
       "      <td>bcb61471-2a44-4d00-a0af-ff085512674c</td>\n",
       "      <td>An atlas of healthy and injured cell states an...</td>\n",
       "      <td>10.1038/s41586-023-05769-3</td>\n",
       "      <td>07854d9c-5375-4a9b-ac34-fa919d3c3686</td>\n",
       "      <td>54a8714e-c818-460d-8c34-14bd4e39e1ff</td>\n",
       "      <td>Single-nucleus RNA-seq of the Adult Human Kidn...</td>\n",
       "      <td>07854d9c-5375-4a9b-ac34-fa919d3c3686.h5ad</td>\n",
       "      <td>172847</td>\n",
       "    </tr>\n",
       "  </tbody>\n",
       "</table>\n",
       "</div>"
      ],
      "text/plain": [
       "                                    collection_id  \\\n",
       "soma_joinid                                         \n",
       "486          bcb61471-2a44-4d00-a0af-ff085512674c   \n",
       "487          bcb61471-2a44-4d00-a0af-ff085512674c   \n",
       "488          bcb61471-2a44-4d00-a0af-ff085512674c   \n",
       "\n",
       "                                               collection_name  \\\n",
       "soma_joinid                                                      \n",
       "486          An atlas of healthy and injured cell states an...   \n",
       "487          An atlas of healthy and injured cell states an...   \n",
       "488          An atlas of healthy and injured cell states an...   \n",
       "\n",
       "                         collection_doi                            dataset_id  \\\n",
       "soma_joinid                                                                     \n",
       "486          10.1038/s41586-023-05769-3  32b9bdce-2481-4c85-ba1b-6ad5fcea844c   \n",
       "487          10.1038/s41586-023-05769-3  0b75c598-0893-4216-afe8-5414cab7739d   \n",
       "488          10.1038/s41586-023-05769-3  07854d9c-5375-4a9b-ac34-fa919d3c3686   \n",
       "\n",
       "                               dataset_version_id  \\\n",
       "soma_joinid                                         \n",
       "486          c65ea195-d1c7-4086-ad98-83b2aa6d31a7   \n",
       "487          7cf02c5a-313c-47ec-9958-9337fc948c7f   \n",
       "488          54a8714e-c818-460d-8c34-14bd4e39e1ff   \n",
       "\n",
       "                                                 dataset_title  \\\n",
       "soma_joinid                                                      \n",
       "486          Single-cell RNA-seq of the Adult Human Kidney ...   \n",
       "487          Integrated Single-nucleus and Single-cell RNA-...   \n",
       "488          Single-nucleus RNA-seq of the Adult Human Kidn...   \n",
       "\n",
       "                                     dataset_h5ad_path  \\\n",
       "soma_joinid                                              \n",
       "486          32b9bdce-2481-4c85-ba1b-6ad5fcea844c.h5ad   \n",
       "487          0b75c598-0893-4216-afe8-5414cab7739d.h5ad   \n",
       "488          07854d9c-5375-4a9b-ac34-fa919d3c3686.h5ad   \n",
       "\n",
       "             dataset_total_cell_count  \n",
       "soma_joinid                            \n",
       "486                            107344  \n",
       "487                            304652  \n",
       "488                            172847  "
      ]
     },
     "execution_count": 4,
     "metadata": {},
     "output_type": "execute_result"
    }
   ],
   "source": [
    "import cellxgene_census\n",
    "\n",
    "census = cellxgene_census.open_soma()\n",
    "census_datasets = (census[\"census_info\"][\"datasets\"].read(value_filter=\"collection_id == 'bcb61471-2a44-4d00-a0af-ff085512674c'\")\n",
    "                   .concat().to_pandas())\n",
    "\n",
    "# for convenience, indexing on the soma_joinid which links this to other census data.\n",
    "census_datasets = census_datasets.set_index(\"soma_joinid\")\n",
    "\n",
    "census_datasets"
   ]
  },
  {
   "cell_type": "markdown",
   "metadata": {},
   "source": [
    "The sum cells across all datasets should match the number of cells across all SOMA experiments (human, mouse)."
   ]
  },
  {
   "cell_type": "code",
   "execution_count": 2,
   "metadata": {
    "execution": {
     "iopub.execute_input": "2023-07-28T13:51:41.395414Z",
     "iopub.status.busy": "2023-07-28T13:51:41.394697Z",
     "iopub.status.idle": "2023-07-28T13:51:42.997103Z",
     "shell.execute_reply": "2023-07-28T13:51:42.996409Z"
    }
   },
   "outputs": [
    {
     "name": "stdout",
     "output_type": "stream",
     "text": [
      "Count by experiment:\n",
      "\t5255245 cells in mus_musculus\n",
      "\t56400873 cells in homo_sapiens\n",
      "\n",
      "Found 61656118 cells in all experiments.\n",
      "Found 61656118 cells in all datasets.\n"
     ]
    }
   ],
   "source": [
    "# Count cells across all experiments\n",
    "all_experiments = (\n",
    "    (organism_name, organism_experiment) for organism_name, organism_experiment in census[\"census_data\"].items()\n",
    ")\n",
    "experiments_total_cells = 0\n",
    "print(\"Count by experiment:\")\n",
    "for organism_name, organism_experiment in all_experiments:\n",
    "    num_cells = len(organism_experiment.obs.read(column_names=[\"soma_joinid\"]).concat().to_pandas())\n",
    "    print(f\"\\t{num_cells} cells in {organism_name}\")\n",
    "    experiments_total_cells += num_cells\n",
    "\n",
    "print(f\"\\nFound {experiments_total_cells} cells in all experiments.\")\n",
    "\n",
    "# Count cells across all datasets\n",
    "print(f\"Found {census_datasets.dataset_total_cell_count.sum()} cells in all datasets.\")"
   ]
  },
  {
   "cell_type": "markdown",
   "metadata": {},
   "source": [
    "## Fetching the expression data from a single dataset\n",
    "\n",
    "Lets pick one dataset to slice out of the census, and turn into an [AnnData](https://anndata.readthedocs.io/en/latest/) in-memory object. This can be used with the [ScanPy](https://scanpy.readthedocs.io/en/stable/) toolchain. You can also save this AnnData locally using the AnnData [write](https://anndata.readthedocs.io/en/latest/api.html#writing) API."
   ]
  },
  {
   "cell_type": "code",
   "execution_count": 3,
   "metadata": {
    "execution": {
     "iopub.execute_input": "2023-07-28T13:51:42.999721Z",
     "iopub.status.busy": "2023-07-28T13:51:42.999445Z",
     "iopub.status.idle": "2023-07-28T13:51:43.008115Z",
     "shell.execute_reply": "2023-07-28T13:51:43.007588Z"
    }
   },
   "outputs": [
    {
     "data": {
      "text/html": [
       "<div>\n",
       "<style scoped>\n",
       "    .dataframe tbody tr th:only-of-type {\n",
       "        vertical-align: middle;\n",
       "    }\n",
       "\n",
       "    .dataframe tbody tr th {\n",
       "        vertical-align: top;\n",
       "    }\n",
       "\n",
       "    .dataframe thead th {\n",
       "        text-align: right;\n",
       "    }\n",
       "</style>\n",
       "<table border=\"1\" class=\"dataframe\">\n",
       "  <thead>\n",
       "    <tr style=\"text-align: right;\">\n",
       "      <th></th>\n",
       "      <th>collection_id</th>\n",
       "      <th>collection_name</th>\n",
       "      <th>collection_doi</th>\n",
       "      <th>dataset_id</th>\n",
       "      <th>dataset_title</th>\n",
       "      <th>dataset_h5ad_path</th>\n",
       "      <th>dataset_total_cell_count</th>\n",
       "    </tr>\n",
       "    <tr>\n",
       "      <th>soma_joinid</th>\n",
       "      <th></th>\n",
       "      <th></th>\n",
       "      <th></th>\n",
       "      <th></th>\n",
       "      <th></th>\n",
       "      <th></th>\n",
       "      <th></th>\n",
       "    </tr>\n",
       "  </thead>\n",
       "  <tbody>\n",
       "    <tr>\n",
       "      <th>522</th>\n",
       "      <td>0b9d8a04-bb9d-44da-aa27-705bb65b54eb</td>\n",
       "      <td>Tabula Muris Senis</td>\n",
       "      <td>10.1038/s41586-020-2496-1</td>\n",
       "      <td>0bd1a1de-3aee-40e0-b2ec-86c7a30c7149</td>\n",
       "      <td>Bone marrow - A single-cell transcriptomic atl...</td>\n",
       "      <td>0bd1a1de-3aee-40e0-b2ec-86c7a30c7149.h5ad</td>\n",
       "      <td>40220</td>\n",
       "    </tr>\n",
       "  </tbody>\n",
       "</table>\n",
       "</div>"
      ],
      "text/plain": [
       "                                    collection_id     collection_name  \\\n",
       "soma_joinid                                                             \n",
       "522          0b9d8a04-bb9d-44da-aa27-705bb65b54eb  Tabula Muris Senis   \n",
       "\n",
       "                        collection_doi                            dataset_id  \\\n",
       "soma_joinid                                                                    \n",
       "522          10.1038/s41586-020-2496-1  0bd1a1de-3aee-40e0-b2ec-86c7a30c7149   \n",
       "\n",
       "                                                 dataset_title  \\\n",
       "soma_joinid                                                      \n",
       "522          Bone marrow - A single-cell transcriptomic atl...   \n",
       "\n",
       "                                     dataset_h5ad_path  \\\n",
       "soma_joinid                                              \n",
       "522          0bd1a1de-3aee-40e0-b2ec-86c7a30c7149.h5ad   \n",
       "\n",
       "             dataset_total_cell_count  \n",
       "soma_joinid                            \n",
       "522                             40220  "
      ]
     },
     "execution_count": 3,
     "metadata": {},
     "output_type": "execute_result"
    }
   ],
   "source": [
    "census_datasets[census_datasets.dataset_id == \"0bd1a1de-3aee-40e0-b2ec-86c7a30c7149\"]"
   ]
  },
  {
   "cell_type": "markdown",
   "metadata": {},
   "source": [
    "Create a query on the mouse experiment, \"RNA\" measurement, for the dataset_id."
   ]
  },
  {
   "cell_type": "code",
   "execution_count": 5,
   "metadata": {},
   "outputs": [
    {
     "data": {
      "text/plain": [
       "AnnData object with n_obs × n_vars = 40220 × 52417\n",
       "    obs: 'soma_joinid', 'dataset_id', 'assay', 'assay_ontology_term_id', 'cell_type', 'cell_type_ontology_term_id', 'development_stage', 'development_stage_ontology_term_id', 'disease', 'disease_ontology_term_id', 'donor_id', 'is_primary_data', 'self_reported_ethnicity', 'self_reported_ethnicity_ontology_term_id', 'sex', 'sex_ontology_term_id', 'suspension_type', 'tissue', 'tissue_ontology_term_id', 'tissue_general', 'tissue_general_ontology_term_id', 'raw_sum', 'nnz', 'raw_mean_nnz', 'raw_variance_nnz', 'n_measured_vars'\n",
       "    var: 'soma_joinid', 'feature_id', 'feature_name', 'feature_length', 'nnz', 'n_measured_obs'"
      ]
     },
     "execution_count": 5,
     "metadata": {},
     "output_type": "execute_result"
    }
   ],
   "source": [
    "adata = cellxgene_census.get_anndata(\n",
    "    census, organism=\"Mus musculus\", obs_value_filter=\"dataset_id == '0bd1a1de-3aee-40e0-b2ec-86c7a30c7149'\"\n",
    ")\n",
    "\n",
    "adata"
   ]
  },
  {
   "cell_type": "markdown",
   "metadata": {},
   "source": [
    "## Downloading the original source H5AD file of a dataset.\n",
    "\n",
    "You can download the original H5AD file for any given dataset. This is the same H5AD you can download from the [CZ CELLxGENE Discover](https://cellxgene.cziscience.com/), and may contain additional data-submitter provided information which was not included in the Census.\n",
    "\n",
    "To do this you can fetch the location in the cloud or directly download to your system using the `cellxgene-census`"
   ]
  },
  {
   "cell_type": "code",
   "execution_count": 5,
   "metadata": {
    "execution": {
     "iopub.execute_input": "2023-07-28T13:51:48.582025Z",
     "iopub.status.busy": "2023-07-28T13:51:48.581729Z",
     "iopub.status.idle": "2023-07-28T13:52:06.733774Z",
     "shell.execute_reply": "2023-07-28T13:52:06.733158Z"
    }
   },
   "outputs": [],
   "source": [
    "# Option 1: Direct download\n",
    "cellxgene_census.download_source_h5ad(\n",
    "    \"0bd1a1de-3aee-40e0-b2ec-86c7a30c7149\", to_path=\"Tabula_Muris_Senis-bone_marrow.h5ad\"\n",
    ")"
   ]
  },
  {
   "cell_type": "code",
   "execution_count": 6,
   "metadata": {
    "execution": {
     "iopub.execute_input": "2023-07-28T13:52:06.736609Z",
     "iopub.status.busy": "2023-07-28T13:52:06.736348Z",
     "iopub.status.idle": "2023-07-28T13:52:07.447332Z",
     "shell.execute_reply": "2023-07-28T13:52:07.446692Z"
    }
   },
   "outputs": [
    {
     "data": {
      "text/plain": [
       "{'uri': 's3://cellxgene-data-public/cell-census/2023-07-25/h5ads/0bd1a1de-3aee-40e0-b2ec-86c7a30c7149.h5ad',\n",
       " 's3_region': 'us-west-2'}"
      ]
     },
     "execution_count": 6,
     "metadata": {},
     "output_type": "execute_result"
    }
   ],
   "source": [
    "# Option 2: Get location and download via preferred method\n",
    "uri = cellxgene_census.get_source_h5ad_uri(\"0bd1a1de-3aee-40e0-b2ec-86c7a30c7149\")\n",
    "uri\n",
    "\n",
    "# you can now download the H5AD in shell via AWS CLI e.g. `aws s3 cp uri ./`"
   ]
  },
  {
   "cell_type": "markdown",
   "metadata": {},
   "source": [
    "Close the census"
   ]
  },
  {
   "cell_type": "code",
   "execution_count": 7,
   "metadata": {
    "execution": {
     "iopub.execute_input": "2023-07-28T13:52:07.449802Z",
     "iopub.status.busy": "2023-07-28T13:52:07.449525Z",
     "iopub.status.idle": "2023-07-28T13:52:07.452843Z",
     "shell.execute_reply": "2023-07-28T13:52:07.452279Z"
    }
   },
   "outputs": [],
   "source": [
    "census.close()"
   ]
  }
 ],
 "metadata": {
  "kernelspec": {
   "display_name": "Python 3 (ipykernel)",
   "language": "python",
   "name": "python3"
  },
  "language_info": {
   "codemirror_mode": {
    "name": "ipython",
    "version": 3
   },
   "file_extension": ".py",
   "mimetype": "text/x-python",
   "name": "python",
   "nbconvert_exporter": "python",
   "pygments_lexer": "ipython3",
   "version": "3.10.13"
  },
  "vscode": {
   "interpreter": {
    "hash": "3da8ec1c162cd849e59e6ea2824b2e353dce799884e910aae99411be5277f953"
   }
  }
 },
 "nbformat": 4,
 "nbformat_minor": 4
}
