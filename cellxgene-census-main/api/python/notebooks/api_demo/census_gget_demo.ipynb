{
 "cells": [
  {
   "attachments": {},
   "cell_type": "markdown",
   "metadata": {
    "id": "YkHzXhTHvXUc"
   },
   "source": [
    "# Querying data using the gget cellxgene module\n",
    "\n",
    "*By Laura Luebbert, lauraluebbert@caltech.edu.*\n",
    "\n",
    "[gget](https://github.com/pachterlab/gget) is a free, open-source command-line tool and Python package that enables efficient querying of genomic databases. gget consists of a collection of separate but interoperable modules, each designed to facilitate one type of database querying in a single line of code.\n",
    "\n",
    "The [gget cellxgene](https://pachterlab.github.io/gget/cellxgene.html) module builds on the [CZ CELLxGENE Discover Census](https://chanzuckerberg.github.io/cellxgene-census/) to query data from [CZ CELLxGENE Discover](https://cellxgene.cziscience.com/). This notebook briefly introduces the [gget cellxgene](https://pachterlab.github.io/gget/cellxgene.html) module by providing one simple example for each supported query type.\n",
    "\n",
    "If you use gget cellxgene in a publication, please [cite gget](https://pachterlab.github.io/gget/cite.html) in addition to [citing CZ CELLxGENE](https://cellxgene.cziscience.com/docs/08__Cite%20cellxgene%20in%20your%20publications).\n",
    "\n",
    "You can also [open this notebook in Google Colab](https://colab.research.google.com/github/chanzuckerberg/cellxgene-census/blob/main/api/python/notebooks/api_demo/census_gget_demo.ipynb).\n",
    "\n",
    "**Contents**  \n",
    "\n",
    "1. Install gget.\n",
    "2. Fetch an [AnnData](https://anndata.readthedocs.io/en/latest/) object by selecting gene(s), tissue(s) and cell type(s).\n",
    "3. Plot a dot plot similar to those shown on the  CZ CELLxGENE Discover [Gene Expression](https://cellxgene.cziscience.com/gene-expression).\n",
    "4. Fetch only cell metadata (corresponds to AnnData.obs).\n",
    "5. Use [gget cellxgene](https://pachterlab.github.io/gget/cellxgene.html) from the command line."
   ]
  },
  {
   "attachments": {},
   "cell_type": "markdown",
   "metadata": {
    "id": "gaPshWPxwzo9"
   },
   "source": [
    "## Install gget and set up cellxgene module"
   ]
  },
  {
   "cell_type": "code",
   "execution_count": 1,
   "metadata": {
    "id": "bKTgv7hCQxS1"
   },
   "outputs": [
    {
     "name": "stdout",
     "output_type": "stream",
     "text": [
      "zsh:1: 0.25.7 not found\n"
     ]
    },
    {
     "name": "stderr",
     "output_type": "stream",
     "text": [
      "Mon Feb 19 15:48:00 2024 INFO Installing cellxgene-census package (requires pip).\n",
      "Mon Feb 19 15:48:02 2024 INFO cellxgene_census installed succesfully.\n"
     ]
    }
   ],
   "source": [
    "# The cellxgene module was added to gget in version 0.25.7\n",
    "!pip install -q gget >=0.25.7\n",
    "\n",
    "import gget\n",
    "\n",
    "gget.setup(\"cellxgene\")"
   ]
  },
  {
   "cell_type": "code",
   "execution_count": 2,
   "metadata": {
    "colab": {
     "base_uri": "https://localhost:8080/"
    },
    "id": "f4hLtaBPToWG",
    "outputId": "e81057ba-578a-464b-caa5-32edcdd206b4"
   },
   "outputs": [
    {
     "name": "stdout",
     "output_type": "stream",
     "text": [
      "Help on function cellxgene in module gget.gget_cellxgene:\n",
      "\n",
      "cellxgene(species='homo_sapiens', gene=None, ensembl=False, column_names=['dataset_id', 'assay', 'suspension_type', 'sex', 'tissue_general', 'tissue', 'cell_type'], meta_only=False, tissue=None, cell_type=None, development_stage=None, disease=None, sex=None, is_primary_data=True, dataset_id=None, tissue_general_ontology_term_id=None, tissue_general=None, assay_ontology_term_id=None, assay=None, cell_type_ontology_term_id=None, development_stage_ontology_term_id=None, disease_ontology_term_id=None, donor_id=None, self_reported_ethnicity_ontology_term_id=None, self_reported_ethnicity=None, sex_ontology_term_id=None, suspension_type=None, tissue_ontology_term_id=None, census_version='stable', verbose=True, out=None)\n",
      "    Query data from CZ CELLxGENE Discover (https://cellxgene.cziscience.com/) using the\n",
      "    CZ CELLxGENE Discover Census (https://github.com/chanzuckerberg/cellxgene-census).\n",
      "    \n",
      "    NOTE: Querying large datasets requires a large amount of RAM. Use the cell metadata attributes\n",
      "    to define the (sub)dataset of interest.\n",
      "    The CZ CELLxGENE Discover Census recommends >16 GB of memory and a >5 Mbps internet connection.\n",
      "    \n",
      "    General args:\n",
      "        - species        Choice of 'homo_sapiens' or 'mus_musculus'. Default: 'homo_sapiens'.\n",
      "        - gene           Str or list of gene name(s) or Ensembl ID(s), e.g. ['ACE2', 'SLC5A1'] or ['ENSG00000130234', 'ENSG00000100170']. Default: None.\n",
      "                         NOTE: Set ensembl=True when providing Ensembl ID(s) instead of gene name(s).\n",
      "                         See https://cellxgene.cziscience.com/gene-expression for examples of available genes.\n",
      "        - ensembl        True/False (default: False). Set to True when genes are provided as Ensembl IDs.\n",
      "        - column_names   List of metadata columns to return (stored in AnnData.obs when meta_only=False).\n",
      "                         Default: [\"dataset_id\", \"assay\", \"suspension_type\", \"sex\", \"tissue_general\", \"tissue\", \"cell_type\"]\n",
      "                         For more options see: https://api.cellxgene.cziscience.com/curation/ui/#/ -> Schemas -> dataset\n",
      "        - meta_only      True/False (default: False). If True, returns only metadata dataframe (corresponds to AnnData.obs).\n",
      "        - census_version Str defining version of Census, e.g. \"2023-05-15\" or \"latest\" or \"stable\". Default: \"stable\".\n",
      "        - verbose        True/False whether to print progress information. Default True.\n",
      "        - out            If provided, saves the generated AnnData h5ad (or csv when meta_only=True) file with the specified path. Default: None.\n",
      "    \n",
      "    Cell metadata attributes:\n",
      "        - tissue                          Str or list of tissue(s), e.g. ['lung', 'blood']. Default: None.\n",
      "                                          See https://cellxgene.cziscience.com/gene-expression for examples of available tissues.\n",
      "        - cell_type                       Str or list of celltype(s), e.g. ['mucus secreting cell', 'neuroendocrine cell']. Default: None.\n",
      "                                          See https://cellxgene.cziscience.com/gene-expression and select a tissue to see examples of available celltypes.\n",
      "        - development_stage               Str or list of development stage(s). Default: None.\n",
      "        - disease                         Str or list of disease(s). Default: None.\n",
      "        - sex                             Str or list of sex(es), e.g. 'female'. Default: None.\n",
      "        - is_primary_data                 True/False (default: True). If True, returns only the canonical instance of the cellular observation.\n",
      "                                          This is commonly set to False for meta-analyses reusing data or for secondary views of data.\n",
      "        - dataset_id                      Str or list of CELLxGENE dataset ID(s). Default: None.\n",
      "        - tissue_general_ontology_term_id Str or list of high-level tissue UBERON ID(s). Default: None.\n",
      "                                          Also see: https://github.com/chanzuckerberg/single-cell-data-portal/blob/9b94ccb0a2e0a8f6182b213aa4852c491f6f6aff/backend/wmg/data/tissue_mapper.py\n",
      "        - tissue_general                  Str or list of high-level tissue label(s). Default: None.\n",
      "                                          Also see: https://github.com/chanzuckerberg/single-cell-data-portal/blob/9b94ccb0a2e0a8f6182b213aa4852c491f6f6aff/backend/wmg/data/tissue_mapper.py\n",
      "        - tissue_ontology_term_id         Str or list of tissue ontology term ID(s) as defined in the CELLxGENE dataset schema. Default: None.\n",
      "        - assay_ontology_term_id          Str or list of assay ontology term ID(s) as defined in the CELLxGENE dataset schema. Default: None.\n",
      "        - assay                           Str or list of assay(s) as defined in the CELLxGENE dataset schema. Default: None.\n",
      "        - cell_type_ontology_term_id      Str or list of celltype ontology term ID(s) as defined in the CELLxGENE dataset schema. Default: None.\n",
      "        - development_stage_ontology_term_id        Str or list of development stage ontology term ID(s) as defined in the CELLxGENE dataset schema. Default: None.\n",
      "        - disease_ontology_term_id        Str or list of disease ontology term ID(s) as defined in the CELLxGENE dataset schema. Default: None.\n",
      "        - donor_id                        Str or list of donor ID(s) as defined in the CELLxGENE dataset schema. Default: None.\n",
      "        - self_reported_ethnicity_ontology_term_id  Str or list of self reported ethnicity ontology ID(s) as defined in the CELLxGENE dataset schema. Default: None.\n",
      "        - self_reported_ethnicity         Str or list of self reported ethnicity as defined in the CELLxGENE dataset schema. Default: None.\n",
      "        - sex_ontology_term_id            Str or list of sex ontology ID(s) as defined in the CELLxGENE dataset schema. Default: None.\n",
      "        - suspension_type                 Str or list of suspension type(s) as defined in the CELLxGENE dataset schema. Default: None.\n",
      "    \n",
      "    Returns AnnData object (when meta_only=False) or dataframe (when meta_only=True).\n",
      "\n"
     ]
    }
   ],
   "source": [
    "# Display all options of the cellxgene gget module\n",
    "help(gget.cellxgene)"
   ]
  },
  {
   "attachments": {},
   "cell_type": "markdown",
   "metadata": {
    "id": "6j6vqbOXw9X3"
   },
   "source": [
    "## Fetch an [AnnData](https://anndata.readthedocs.io/en/latest/) object by selecting gene(s), tissue(s) and cell type(s)\n",
    "You can use all of the options listed above to filter for data of interest. Here, we will demonstrate the module by fetching a small dataset containing only three genes and two lung cell types:"
   ]
  },
  {
   "cell_type": "code",
   "execution_count": 21,
   "metadata": {
    "colab": {
     "base_uri": "https://localhost:8080/"
    },
    "id": "OnDHwjjSQ2uD",
    "outputId": "9cdb068d-300a-4cdc-f0cb-cf62d0eb3097"
   },
   "outputs": [
    {
     "name": "stderr",
     "output_type": "stream",
     "text": [
      "Sat Feb 24 14:32:53 2024 INFO Fetching AnnData object from CZ CELLxGENE Discover. This might take a few minutes...\n",
      "The \"stable\" release is currently 2023-12-15. Specify 'census_version=\"2023-12-15\"' in future calls to open_soma() to ensure data consistency.\n",
      "Sat Feb 24 14:32:54 2024 INFO The \"stable\" release is currently 2023-12-15. Specify 'census_version=\"2023-12-15\"' in future calls to open_soma() to ensure data consistency.\n"
     ]
    }
   ],
   "source": [
    "# Fetch AnnData object based on specified genes, tissue and cell types\n",
    "\n",
    "adata = gget.cellxgene(\n",
    "    gene=[\"NPHS1\", \"NPHS2\", \"PODXL\", \"PTPRQ\"], tissue=\"kidney\", cell_type=[\"podocyte\"], disease=[\"chronic kidney disease\"], dataset_id = ['32b9bdce-2481-4c85-ba1b-6ad5fcea844c'], sex = ['female']\n",
    ")"
   ]
  },
  {
   "attachments": {},
   "cell_type": "markdown",
   "metadata": {
    "id": "6krDnFMLyeRl"
   },
   "source": [
    "Let's look at some of the features of the AnnData object we just fetched:"
   ]
  },
  {
   "cell_type": "code",
   "execution_count": 22,
   "metadata": {
    "colab": {
     "base_uri": "https://localhost:8080/"
    },
    "id": "MqZM-2uNTt1L",
    "outputId": "7b14f3e9-8264-428d-b6d4-3320e17776d5"
   },
   "outputs": [
    {
     "data": {
      "text/plain": [
       "AnnData object with n_obs × n_vars = 79 × 4\n",
       "    obs: 'dataset_id', 'assay', 'suspension_type', 'sex', 'tissue_general', 'tissue', 'cell_type', 'is_primary_data', 'disease'\n",
       "    var: 'soma_joinid', 'feature_id', 'feature_name', 'feature_length', 'nnz', 'n_measured_obs'"
      ]
     },
     "execution_count": 22,
     "metadata": {},
     "output_type": "execute_result"
    }
   ],
   "source": [
    "adata"
   ]
  },
  {
   "attachments": {},
   "cell_type": "markdown",
   "metadata": {
    "id": "Yl34ulk7ziH8"
   },
   "source": [
    "A few thousand cells from CZ CELLxGENE Discover matched the filters specified above and their ACE2, ABCA1, and SLC5A1 expression matrix in lung mucus secreting and neuroendocrine cells was fetched. The `.var` and `.obs` layers contain additional information about each gene and cell, respectively:"
   ]
  },
  {
   "cell_type": "code",
   "execution_count": 23,
   "metadata": {
    "colab": {
     "base_uri": "https://localhost:8080/",
     "height": 143
    },
    "id": "qzdc41PdTwDN",
    "outputId": "a1a48a86-14bc-4559-ab3b-19d7f29fa153"
   },
   "outputs": [
    {
     "data": {
      "text/html": [
       "<div>\n",
       "<style scoped>\n",
       "    .dataframe tbody tr th:only-of-type {\n",
       "        vertical-align: middle;\n",
       "    }\n",
       "\n",
       "    .dataframe tbody tr th {\n",
       "        vertical-align: top;\n",
       "    }\n",
       "\n",
       "    .dataframe thead th {\n",
       "        text-align: right;\n",
       "    }\n",
       "</style>\n",
       "<table border=\"1\" class=\"dataframe\">\n",
       "  <thead>\n",
       "    <tr style=\"text-align: right;\">\n",
       "      <th></th>\n",
       "      <th>soma_joinid</th>\n",
       "      <th>feature_id</th>\n",
       "      <th>feature_name</th>\n",
       "      <th>feature_length</th>\n",
       "      <th>nnz</th>\n",
       "      <th>n_measured_obs</th>\n",
       "    </tr>\n",
       "  </thead>\n",
       "  <tbody>\n",
       "    <tr>\n",
       "      <th>0</th>\n",
       "      <td>16427</td>\n",
       "      <td>ENSG00000161270</td>\n",
       "      <td>NPHS1</td>\n",
       "      <td>6717</td>\n",
       "      <td>1024635</td>\n",
       "      <td>61707536</td>\n",
       "    </tr>\n",
       "    <tr>\n",
       "      <th>1</th>\n",
       "      <td>16428</td>\n",
       "      <td>ENSG00000116218</td>\n",
       "      <td>NPHS2</td>\n",
       "      <td>1874</td>\n",
       "      <td>100510</td>\n",
       "      <td>47270390</td>\n",
       "    </tr>\n",
       "    <tr>\n",
       "      <th>2</th>\n",
       "      <td>18772</td>\n",
       "      <td>ENSG00000128567</td>\n",
       "      <td>PODXL</td>\n",
       "      <td>6893</td>\n",
       "      <td>4701949</td>\n",
       "      <td>62835418</td>\n",
       "    </tr>\n",
       "    <tr>\n",
       "      <th>3</th>\n",
       "      <td>19656</td>\n",
       "      <td>ENSG00000139304</td>\n",
       "      <td>PTPRQ</td>\n",
       "      <td>12412</td>\n",
       "      <td>3132138</td>\n",
       "      <td>58590653</td>\n",
       "    </tr>\n",
       "  </tbody>\n",
       "</table>\n",
       "</div>"
      ],
      "text/plain": [
       "   soma_joinid       feature_id feature_name  feature_length      nnz  \\\n",
       "0        16427  ENSG00000161270        NPHS1            6717  1024635   \n",
       "1        16428  ENSG00000116218        NPHS2            1874   100510   \n",
       "2        18772  ENSG00000128567        PODXL            6893  4701949   \n",
       "3        19656  ENSG00000139304        PTPRQ           12412  3132138   \n",
       "\n",
       "   n_measured_obs  \n",
       "0        61707536  \n",
       "1        47270390  \n",
       "2        62835418  \n",
       "3        58590653  "
      ]
     },
     "execution_count": 23,
     "metadata": {},
     "output_type": "execute_result"
    }
   ],
   "source": [
    "adata.var"
   ]
  },
  {
   "cell_type": "code",
   "execution_count": 24,
   "metadata": {
    "colab": {
     "base_uri": "https://localhost:8080/",
     "height": 424
    },
    "id": "lIebiJ0CTxDn",
    "outputId": "dcf64476-daf1-4355-ab77-724e54cbacbe"
   },
   "outputs": [
    {
     "data": {
      "text/html": [
       "<div>\n",
       "<style scoped>\n",
       "    .dataframe tbody tr th:only-of-type {\n",
       "        vertical-align: middle;\n",
       "    }\n",
       "\n",
       "    .dataframe tbody tr th {\n",
       "        vertical-align: top;\n",
       "    }\n",
       "\n",
       "    .dataframe thead th {\n",
       "        text-align: right;\n",
       "    }\n",
       "</style>\n",
       "<table border=\"1\" class=\"dataframe\">\n",
       "  <thead>\n",
       "    <tr style=\"text-align: right;\">\n",
       "      <th></th>\n",
       "      <th>dataset_id</th>\n",
       "      <th>assay</th>\n",
       "      <th>suspension_type</th>\n",
       "      <th>sex</th>\n",
       "      <th>tissue_general</th>\n",
       "      <th>tissue</th>\n",
       "      <th>cell_type</th>\n",
       "      <th>is_primary_data</th>\n",
       "      <th>disease</th>\n",
       "    </tr>\n",
       "  </thead>\n",
       "  <tbody>\n",
       "    <tr>\n",
       "      <th>0</th>\n",
       "      <td>32b9bdce-2481-4c85-ba1b-6ad5fcea844c</td>\n",
       "      <td>10x 3' v3</td>\n",
       "      <td>cell</td>\n",
       "      <td>female</td>\n",
       "      <td>kidney</td>\n",
       "      <td>kidney</td>\n",
       "      <td>podocyte</td>\n",
       "      <td>True</td>\n",
       "      <td>chronic kidney disease</td>\n",
       "    </tr>\n",
       "    <tr>\n",
       "      <th>1</th>\n",
       "      <td>32b9bdce-2481-4c85-ba1b-6ad5fcea844c</td>\n",
       "      <td>10x 3' v3</td>\n",
       "      <td>cell</td>\n",
       "      <td>female</td>\n",
       "      <td>kidney</td>\n",
       "      <td>kidney</td>\n",
       "      <td>podocyte</td>\n",
       "      <td>True</td>\n",
       "      <td>chronic kidney disease</td>\n",
       "    </tr>\n",
       "    <tr>\n",
       "      <th>2</th>\n",
       "      <td>32b9bdce-2481-4c85-ba1b-6ad5fcea844c</td>\n",
       "      <td>10x 3' v3</td>\n",
       "      <td>cell</td>\n",
       "      <td>female</td>\n",
       "      <td>kidney</td>\n",
       "      <td>kidney</td>\n",
       "      <td>podocyte</td>\n",
       "      <td>True</td>\n",
       "      <td>chronic kidney disease</td>\n",
       "    </tr>\n",
       "    <tr>\n",
       "      <th>3</th>\n",
       "      <td>32b9bdce-2481-4c85-ba1b-6ad5fcea844c</td>\n",
       "      <td>10x 3' v3</td>\n",
       "      <td>cell</td>\n",
       "      <td>female</td>\n",
       "      <td>kidney</td>\n",
       "      <td>kidney</td>\n",
       "      <td>podocyte</td>\n",
       "      <td>True</td>\n",
       "      <td>chronic kidney disease</td>\n",
       "    </tr>\n",
       "    <tr>\n",
       "      <th>4</th>\n",
       "      <td>32b9bdce-2481-4c85-ba1b-6ad5fcea844c</td>\n",
       "      <td>10x 3' v3</td>\n",
       "      <td>cell</td>\n",
       "      <td>female</td>\n",
       "      <td>kidney</td>\n",
       "      <td>kidney</td>\n",
       "      <td>podocyte</td>\n",
       "      <td>True</td>\n",
       "      <td>chronic kidney disease</td>\n",
       "    </tr>\n",
       "    <tr>\n",
       "      <th>...</th>\n",
       "      <td>...</td>\n",
       "      <td>...</td>\n",
       "      <td>...</td>\n",
       "      <td>...</td>\n",
       "      <td>...</td>\n",
       "      <td>...</td>\n",
       "      <td>...</td>\n",
       "      <td>...</td>\n",
       "      <td>...</td>\n",
       "    </tr>\n",
       "    <tr>\n",
       "      <th>74</th>\n",
       "      <td>32b9bdce-2481-4c85-ba1b-6ad5fcea844c</td>\n",
       "      <td>10x 3' v3</td>\n",
       "      <td>cell</td>\n",
       "      <td>female</td>\n",
       "      <td>kidney</td>\n",
       "      <td>kidney</td>\n",
       "      <td>podocyte</td>\n",
       "      <td>True</td>\n",
       "      <td>chronic kidney disease</td>\n",
       "    </tr>\n",
       "    <tr>\n",
       "      <th>75</th>\n",
       "      <td>32b9bdce-2481-4c85-ba1b-6ad5fcea844c</td>\n",
       "      <td>10x 3' v3</td>\n",
       "      <td>cell</td>\n",
       "      <td>female</td>\n",
       "      <td>kidney</td>\n",
       "      <td>kidney</td>\n",
       "      <td>podocyte</td>\n",
       "      <td>True</td>\n",
       "      <td>chronic kidney disease</td>\n",
       "    </tr>\n",
       "    <tr>\n",
       "      <th>76</th>\n",
       "      <td>32b9bdce-2481-4c85-ba1b-6ad5fcea844c</td>\n",
       "      <td>10x 3' v3</td>\n",
       "      <td>cell</td>\n",
       "      <td>female</td>\n",
       "      <td>kidney</td>\n",
       "      <td>kidney</td>\n",
       "      <td>podocyte</td>\n",
       "      <td>True</td>\n",
       "      <td>chronic kidney disease</td>\n",
       "    </tr>\n",
       "    <tr>\n",
       "      <th>77</th>\n",
       "      <td>32b9bdce-2481-4c85-ba1b-6ad5fcea844c</td>\n",
       "      <td>10x 3' v3</td>\n",
       "      <td>cell</td>\n",
       "      <td>female</td>\n",
       "      <td>kidney</td>\n",
       "      <td>kidney</td>\n",
       "      <td>podocyte</td>\n",
       "      <td>True</td>\n",
       "      <td>chronic kidney disease</td>\n",
       "    </tr>\n",
       "    <tr>\n",
       "      <th>78</th>\n",
       "      <td>32b9bdce-2481-4c85-ba1b-6ad5fcea844c</td>\n",
       "      <td>10x 3' v3</td>\n",
       "      <td>cell</td>\n",
       "      <td>female</td>\n",
       "      <td>kidney</td>\n",
       "      <td>kidney</td>\n",
       "      <td>podocyte</td>\n",
       "      <td>True</td>\n",
       "      <td>chronic kidney disease</td>\n",
       "    </tr>\n",
       "  </tbody>\n",
       "</table>\n",
       "<p>79 rows × 9 columns</p>\n",
       "</div>"
      ],
      "text/plain": [
       "                              dataset_id      assay suspension_type     sex  \\\n",
       "0   32b9bdce-2481-4c85-ba1b-6ad5fcea844c  10x 3' v3            cell  female   \n",
       "1   32b9bdce-2481-4c85-ba1b-6ad5fcea844c  10x 3' v3            cell  female   \n",
       "2   32b9bdce-2481-4c85-ba1b-6ad5fcea844c  10x 3' v3            cell  female   \n",
       "3   32b9bdce-2481-4c85-ba1b-6ad5fcea844c  10x 3' v3            cell  female   \n",
       "4   32b9bdce-2481-4c85-ba1b-6ad5fcea844c  10x 3' v3            cell  female   \n",
       "..                                   ...        ...             ...     ...   \n",
       "74  32b9bdce-2481-4c85-ba1b-6ad5fcea844c  10x 3' v3            cell  female   \n",
       "75  32b9bdce-2481-4c85-ba1b-6ad5fcea844c  10x 3' v3            cell  female   \n",
       "76  32b9bdce-2481-4c85-ba1b-6ad5fcea844c  10x 3' v3            cell  female   \n",
       "77  32b9bdce-2481-4c85-ba1b-6ad5fcea844c  10x 3' v3            cell  female   \n",
       "78  32b9bdce-2481-4c85-ba1b-6ad5fcea844c  10x 3' v3            cell  female   \n",
       "\n",
       "   tissue_general  tissue cell_type  is_primary_data                 disease  \n",
       "0          kidney  kidney  podocyte             True  chronic kidney disease  \n",
       "1          kidney  kidney  podocyte             True  chronic kidney disease  \n",
       "2          kidney  kidney  podocyte             True  chronic kidney disease  \n",
       "3          kidney  kidney  podocyte             True  chronic kidney disease  \n",
       "4          kidney  kidney  podocyte             True  chronic kidney disease  \n",
       "..            ...     ...       ...              ...                     ...  \n",
       "74         kidney  kidney  podocyte             True  chronic kidney disease  \n",
       "75         kidney  kidney  podocyte             True  chronic kidney disease  \n",
       "76         kidney  kidney  podocyte             True  chronic kidney disease  \n",
       "77         kidney  kidney  podocyte             True  chronic kidney disease  \n",
       "78         kidney  kidney  podocyte             True  chronic kidney disease  \n",
       "\n",
       "[79 rows x 9 columns]"
      ]
     },
     "execution_count": 24,
     "metadata": {},
     "output_type": "execute_result"
    }
   ],
   "source": [
    "adata.obs"
   ]
  },
  {
   "attachments": {},
   "cell_type": "markdown",
   "metadata": {
    "id": "e4zaccqDUVon"
   },
   "source": [
    "## Plot a dot plot similar to those shown on the  CZ CELLxGENE Discover [Gene Expression](https://cellxgene.cziscience.com/gene-expression)\n",
    "Using the data we just fetched, we can plot a dot plot using [scanpy](https://scanpy.readthedocs.io/en/stable/):"
   ]
  },
  {
   "cell_type": "code",
   "execution_count": 25,
   "metadata": {
    "id": "qGHq2q3wT3gw"
   },
   "outputs": [],
   "source": [
    "import scanpy as sc\n",
    "\n",
    "# retina increases the resolution of plots displayed in notebooks\n",
    "%config InlineBackend.figure_format=\"retina\""
   ]
  },
  {
   "cell_type": "code",
   "execution_count": 26,
   "metadata": {
    "colab": {
     "base_uri": "https://localhost:8080/",
     "height": 283
    },
    "id": "p1FTT-OiUa4k",
    "outputId": "ca64020b-6c2e-4f61-973f-657bbefa078c"
   },
   "outputs": [
    {
     "name": "stderr",
     "output_type": "stream",
     "text": [
      "... storing 'dataset_id' as categorical\n",
      "... storing 'assay' as categorical\n",
      "... storing 'suspension_type' as categorical\n",
      "... storing 'sex' as categorical\n",
      "... storing 'tissue_general' as categorical\n",
      "... storing 'tissue' as categorical\n",
      "... storing 'cell_type' as categorical\n",
      "... storing 'disease' as categorical\n"
     ]
    },
    {
     "data": {
      "image/png": "[encoded data removed]",
      "text/plain": [
       "<Figure size 298x250 with 4 Axes>"
      ]
     },
     "metadata": {
      "image/png": {
       "height": 261,
       "width": 314
      }
     },
     "output_type": "display_data"
    }
   ],
   "source": [
    "sc.pl.dotplot(adata, adata.var[\"feature_name\"].values, groupby=\"cell_type\", gene_symbols=\"feature_name\")"
   ]
  },
  {
   "attachments": {},
   "cell_type": "markdown",
   "metadata": {
    "id": "lIqvA3pc0iJA"
   },
   "source": [
    "## Fetch only cell metadata (corresponds to AnnData.obs)\n",
    "By setting `meta_only=True` and again filtering by the cell metadata attributes listed above, you can also fetch only the cell metadata:"
   ]
  },
  {
   "cell_type": "code",
   "execution_count": 13,
   "metadata": {
    "colab": {
     "base_uri": "https://localhost:8080/",
     "height": 424
    },
    "id": "RQJyn-mKU_oh",
    "outputId": "feb8e251-d619-491b-88a0-2cda9adc2af6"
   },
   "outputs": [
    {
     "name": "stderr",
     "output_type": "stream",
     "text": [
      "Wed Feb 21 22:36:54 2024 INFO Fetching metadata from CZ CELLxGENE Discover...\n"
     ]
    },
    {
     "data": {
      "text/html": [
       "<div>\n",
       "<style scoped>\n",
       "    .dataframe tbody tr th:only-of-type {\n",
       "        vertical-align: middle;\n",
       "    }\n",
       "\n",
       "    .dataframe tbody tr th {\n",
       "        vertical-align: top;\n",
       "    }\n",
       "\n",
       "    .dataframe thead th {\n",
       "        text-align: right;\n",
       "    }\n",
       "</style>\n",
       "<table border=\"1\" class=\"dataframe\">\n",
       "  <thead>\n",
       "    <tr style=\"text-align: right;\">\n",
       "      <th></th>\n",
       "      <th>dataset_id</th>\n",
       "      <th>assay</th>\n",
       "      <th>suspension_type</th>\n",
       "      <th>sex</th>\n",
       "      <th>tissue_general</th>\n",
       "      <th>tissue</th>\n",
       "      <th>cell_type</th>\n",
       "      <th>is_primary_data</th>\n",
       "    </tr>\n",
       "  </thead>\n",
       "  <tbody>\n",
       "    <tr>\n",
       "      <th>0</th>\n",
       "      <td>047d57f2-4d14-45de-aa98-336c6f583750</td>\n",
       "      <td>10x 3' v2</td>\n",
       "      <td>cell</td>\n",
       "      <td>unknown</td>\n",
       "      <td>lung</td>\n",
       "      <td>lung</td>\n",
       "      <td>mesenchymal stem cell</td>\n",
       "      <td>True</td>\n",
       "    </tr>\n",
       "    <tr>\n",
       "      <th>1</th>\n",
       "      <td>047d57f2-4d14-45de-aa98-336c6f583750</td>\n",
       "      <td>10x 3' v2</td>\n",
       "      <td>cell</td>\n",
       "      <td>unknown</td>\n",
       "      <td>lung</td>\n",
       "      <td>lung</td>\n",
       "      <td>progenitor cell</td>\n",
       "      <td>True</td>\n",
       "    </tr>\n",
       "    <tr>\n",
       "      <th>2</th>\n",
       "      <td>047d57f2-4d14-45de-aa98-336c6f583750</td>\n",
       "      <td>10x 3' v2</td>\n",
       "      <td>cell</td>\n",
       "      <td>unknown</td>\n",
       "      <td>lung</td>\n",
       "      <td>lung</td>\n",
       "      <td>mesenchymal cell</td>\n",
       "      <td>True</td>\n",
       "    </tr>\n",
       "    <tr>\n",
       "      <th>3</th>\n",
       "      <td>047d57f2-4d14-45de-aa98-336c6f583750</td>\n",
       "      <td>10x 3' v2</td>\n",
       "      <td>cell</td>\n",
       "      <td>unknown</td>\n",
       "      <td>lung</td>\n",
       "      <td>lung</td>\n",
       "      <td>mesenchymal stem cell</td>\n",
       "      <td>True</td>\n",
       "    </tr>\n",
       "    <tr>\n",
       "      <th>4</th>\n",
       "      <td>047d57f2-4d14-45de-aa98-336c6f583750</td>\n",
       "      <td>10x 3' v2</td>\n",
       "      <td>cell</td>\n",
       "      <td>unknown</td>\n",
       "      <td>lung</td>\n",
       "      <td>lung</td>\n",
       "      <td>mesenchymal cell</td>\n",
       "      <td>True</td>\n",
       "    </tr>\n",
       "    <tr>\n",
       "      <th>...</th>\n",
       "      <td>...</td>\n",
       "      <td>...</td>\n",
       "      <td>...</td>\n",
       "      <td>...</td>\n",
       "      <td>...</td>\n",
       "      <td>...</td>\n",
       "      <td>...</td>\n",
       "      <td>...</td>\n",
       "    </tr>\n",
       "    <tr>\n",
       "      <th>97547</th>\n",
       "      <td>48b37086-25f7-4ecd-be66-f5bb378e3aea</td>\n",
       "      <td>10x 3' v2</td>\n",
       "      <td>cell</td>\n",
       "      <td>male</td>\n",
       "      <td>lung</td>\n",
       "      <td>lung</td>\n",
       "      <td>fibroblast of lung</td>\n",
       "      <td>True</td>\n",
       "    </tr>\n",
       "    <tr>\n",
       "      <th>97548</th>\n",
       "      <td>48b37086-25f7-4ecd-be66-f5bb378e3aea</td>\n",
       "      <td>10x 3' v2</td>\n",
       "      <td>cell</td>\n",
       "      <td>male</td>\n",
       "      <td>lung</td>\n",
       "      <td>lung</td>\n",
       "      <td>natural killer cell</td>\n",
       "      <td>True</td>\n",
       "    </tr>\n",
       "    <tr>\n",
       "      <th>97549</th>\n",
       "      <td>48b37086-25f7-4ecd-be66-f5bb378e3aea</td>\n",
       "      <td>10x 3' v2</td>\n",
       "      <td>cell</td>\n",
       "      <td>male</td>\n",
       "      <td>lung</td>\n",
       "      <td>lung</td>\n",
       "      <td>pulmonary interstitial fibroblast</td>\n",
       "      <td>True</td>\n",
       "    </tr>\n",
       "    <tr>\n",
       "      <th>97550</th>\n",
       "      <td>48b37086-25f7-4ecd-be66-f5bb378e3aea</td>\n",
       "      <td>10x 3' v2</td>\n",
       "      <td>cell</td>\n",
       "      <td>male</td>\n",
       "      <td>lung</td>\n",
       "      <td>lung</td>\n",
       "      <td>adventitial cell</td>\n",
       "      <td>True</td>\n",
       "    </tr>\n",
       "    <tr>\n",
       "      <th>97551</th>\n",
       "      <td>48b37086-25f7-4ecd-be66-f5bb378e3aea</td>\n",
       "      <td>10x 3' v2</td>\n",
       "      <td>cell</td>\n",
       "      <td>male</td>\n",
       "      <td>lung</td>\n",
       "      <td>lung</td>\n",
       "      <td>fibroblast of lung</td>\n",
       "      <td>True</td>\n",
       "    </tr>\n",
       "  </tbody>\n",
       "</table>\n",
       "<p>97552 rows × 8 columns</p>\n",
       "</div>"
      ],
      "text/plain": [
       "                                 dataset_id      assay suspension_type  \\\n",
       "0      047d57f2-4d14-45de-aa98-336c6f583750  10x 3' v2            cell   \n",
       "1      047d57f2-4d14-45de-aa98-336c6f583750  10x 3' v2            cell   \n",
       "2      047d57f2-4d14-45de-aa98-336c6f583750  10x 3' v2            cell   \n",
       "3      047d57f2-4d14-45de-aa98-336c6f583750  10x 3' v2            cell   \n",
       "4      047d57f2-4d14-45de-aa98-336c6f583750  10x 3' v2            cell   \n",
       "...                                     ...        ...             ...   \n",
       "97547  48b37086-25f7-4ecd-be66-f5bb378e3aea  10x 3' v2            cell   \n",
       "97548  48b37086-25f7-4ecd-be66-f5bb378e3aea  10x 3' v2            cell   \n",
       "97549  48b37086-25f7-4ecd-be66-f5bb378e3aea  10x 3' v2            cell   \n",
       "97550  48b37086-25f7-4ecd-be66-f5bb378e3aea  10x 3' v2            cell   \n",
       "97551  48b37086-25f7-4ecd-be66-f5bb378e3aea  10x 3' v2            cell   \n",
       "\n",
       "           sex tissue_general tissue                          cell_type  \\\n",
       "0      unknown           lung   lung              mesenchymal stem cell   \n",
       "1      unknown           lung   lung                    progenitor cell   \n",
       "2      unknown           lung   lung                   mesenchymal cell   \n",
       "3      unknown           lung   lung              mesenchymal stem cell   \n",
       "4      unknown           lung   lung                   mesenchymal cell   \n",
       "...        ...            ...    ...                                ...   \n",
       "97547     male           lung   lung                 fibroblast of lung   \n",
       "97548     male           lung   lung                natural killer cell   \n",
       "97549     male           lung   lung  pulmonary interstitial fibroblast   \n",
       "97550     male           lung   lung                   adventitial cell   \n",
       "97551     male           lung   lung                 fibroblast of lung   \n",
       "\n",
       "       is_primary_data  \n",
       "0                 True  \n",
       "1                 True  \n",
       "2                 True  \n",
       "3                 True  \n",
       "4                 True  \n",
       "...                ...  \n",
       "97547             True  \n",
       "97548             True  \n",
       "97549             True  \n",
       "97550             True  \n",
       "97551             True  \n",
       "\n",
       "[97552 rows x 8 columns]"
      ]
     },
     "execution_count": 13,
     "metadata": {},
     "output_type": "execute_result"
    }
   ],
   "source": [
    "df = gget.cellxgene(\n",
    "    meta_only=True,\n",
    "    census_version=\"2023-05-15\",  # Specify Census version for reproducibility over time\n",
    "    gene=\"ENSMUSG00000015405\",\n",
    "    ensembl=True,  # Setting 'ensembl=True' here since the gene is passed as an Ensembl ID\n",
    "    tissue=\"lung\",\n",
    "    species=\"mus_musculus\",  # Let's switch up the species\n",
    ")\n",
    "\n",
    "df"
   ]
  },
  {
   "attachments": {},
   "cell_type": "markdown",
   "metadata": {
    "id": "2QjJEJdS-He7"
   },
   "source": [
    "## Use [gget cellxgene](https://pachterlab.github.io/gget/cellxgene.html) from the command line\n",
    "All gget modules support use from the command line. Note that the command line interface requires the `-o/--out` argument to specify a path to save the fetched data. Here are the command line versions of the queries demonstrated above:"
   ]
  },
  {
   "cell_type": "code",
   "execution_count": null,
   "metadata": {
    "id": "hDcS0fZ--BnB"
   },
   "outputs": [],
   "source": [
    "# # Fetch AnnData object based on specified genes, tissue and cell types\n",
    "# !gget cellxgene --gene ACE2 ABCA1 SLC5A1 --tissue lung --cell_type 'mucus secreting cell' 'neuroendocrine cell' -o example_adata.h5ad"
   ]
  },
  {
   "cell_type": "code",
   "execution_count": null,
   "metadata": {
    "id": "f683tvIg-oEz"
   },
   "outputs": [],
   "source": [
    "# # Fetch only metadata\n",
    "# !gget cellxgene --meta_only --gene ENSMUSG00000015405 --ensembl --tissue lung --species mus_musculus -o example_meta.csv"
   ]
  }
 ],
 "metadata": {
  "colab": {
   "provenance": []
  },
  "kernelspec": {
   "display_name": "Python 3 (ipykernel)",
   "language": "python",
   "name": "python3"
  },
  "language_info": {
   "codemirror_mode": {
    "name": "ipython",
    "version": 3
   },
   "file_extension": ".py",
   "mimetype": "text/x-python",
   "name": "python",
   "nbconvert_exporter": "python",
   "pygments_lexer": "ipython3",
   "version": "3.10.13"
  }
 },
 "nbformat": 4,
 "nbformat_minor": 4
}
